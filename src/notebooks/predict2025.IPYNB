{
 "cells": [
  {
   "cell_type": "code",
   "execution_count": 1,
   "metadata": {},
   "outputs": [],
   "source": [
    "import sys\n",
    "import os\n",
    "project_root = os.path.abspath(os.path.join(os.getcwd(), '..'))\n",
    "if project_root not in sys.path:\n",
    "    sys.path.append(project_root)\n",
    "from scripts.Predict import Predict"
   ]
  },
  {
   "cell_type": "code",
   "execution_count": 2,
   "metadata": {},
   "outputs": [
    {
     "name": "stdout",
     "output_type": "stream",
     "text": [
      "Advanced for season 2025 done\n",
      "Standing for season 2025 done\n",
      "Per game for season 2025 done\n",
      "                     Player      Proba\n",
      "13  Shai Gilgeous-Alexander  34.452839\n",
      "15             Nikola Jokić  25.768406\n",
      "42    Giannis Antetokounmpo  13.998363\n",
      "26             LeBron James   9.922171\n",
      "3              Jayson Tatum   3.734235\n",
      "5          Domantas Sabonis   3.591898\n",
      "4             Jalen Brunson   2.783245\n",
      "28           Damian Lillard   2.290190\n",
      "31           Jalen Williams   1.789352\n",
      "22       Karl-Anthony Towns   1.669289\n",
      "                     Player  Prediction\n",
      "13  Shai Gilgeous-Alexander   16.529669\n",
      "15             Nikola Jokić   12.217948\n",
      "42    Giannis Antetokounmpo    6.374259\n",
      "26             LeBron James    4.350476\n",
      "3              Jayson Tatum    1.278237\n",
      "5          Domantas Sabonis    1.207569\n",
      "4             Jalen Brunson    0.806082\n",
      "28           Damian Lillard    0.561286\n",
      "31           Jalen Williams    0.312626\n",
      "22       Karl-Anthony Towns    0.253016\n"
     ]
    },
    {
     "name": "stderr",
     "output_type": "stream",
     "text": [
      "c:\\Users\\Samuel\\OneDrive\\Documents\\coding\\mvp predictor\\src\\scripts\\Processed.py:91: SettingWithCopyWarning: \n",
      "A value is trying to be set on a copy of a slice from a DataFrame.\n",
      "Try using .loc[row_indexer,col_indexer] = value instead\n",
      "\n",
      "See the caveats in the documentation: https://pandas.pydata.org/pandas-docs/stable/user_guide/indexing.html#returning-a-view-versus-a-copy\n",
      "  self.processed[col] = pd.to_numeric(self.processed[col], errors='coerce')\n",
      "c:\\Users\\Samuel\\miniconda3\\envs\\MVP_PREDICTOR\\Lib\\site-packages\\sklearn\\utils\\validation.py:2739: UserWarning: X does not have valid feature names, but StandardScaler was fitted with feature names\n",
      "  warnings.warn(\n",
      "c:\\Users\\Samuel\\miniconda3\\envs\\MVP_PREDICTOR\\Lib\\site-packages\\sklearn\\utils\\validation.py:2739: UserWarning: X does not have valid feature names, but StandardScaler was fitted with feature names\n",
      "  warnings.warn(\n"
     ]
    }
   ],
   "source": [
    "predict = Predict(2025)\n",
    "proba = predict.predict_proba()\n",
    "print(proba)\n",
    "predict = predict.predict()\n",
    "print(predict)"
   ]
  }
 ],
 "metadata": {
  "kernelspec": {
   "display_name": "MVP_PREDICTOR",
   "language": "python",
   "name": "python3"
  },
  "language_info": {
   "codemirror_mode": {
    "name": "ipython",
    "version": 3
   },
   "file_extension": ".py",
   "mimetype": "text/x-python",
   "name": "python",
   "nbconvert_exporter": "python",
   "pygments_lexer": "ipython3",
   "version": "3.13.1"
  }
 },
 "nbformat": 4,
 "nbformat_minor": 2
}

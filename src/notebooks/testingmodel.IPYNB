{
 "cells": [
  {
   "cell_type": "code",
   "execution_count": null,
   "metadata": {},
   "outputs": [],
   "source": [
    "from sklearn.ensemble import RandomForestRegressor, AdaBoostRegressor\n",
    "import xgboost as xgb\n",
    "import sys\n",
    "import os\n",
    "project_root = os.path.abspath(os.path.join(os.getcwd(), '..'))\n",
    "if project_root not in sys.path:\n",
    "    sys.path.append(project_root)\n",
    "from scripts.datasets import create_folds\n",
    "from joblib import dump"
   ]
  },
  {
   "cell_type": "markdown",
   "metadata": {},
   "source": [
    "Add all models to test in the list"
   ]
  },
  {
   "cell_type": "code",
   "execution_count": 10,
   "metadata": {},
   "outputs": [],
   "source": [
    "models = [(RandomForestRegressor(n_estimators=100, n_jobs=-1, random_state=42), \"Forest\"),\n",
    "          (xgb.XGBRegressor(n_estimators=100, n_jobs=-1, random_state=42), \"XGBoost\"),\n",
    "          (AdaBoostRegressor(n_estimators=100, random_state=42), \"AdaBoost\")]"
   ]
  },
  {
   "cell_type": "code",
   "execution_count": 11,
   "metadata": {},
   "outputs": [
    {
     "name": "stdout",
     "output_type": "stream",
     "text": [
      "Accuracy for Forest: 0.6818181818181818\n",
      "Accuracy for XGBoost: 0.6818181818181818\n",
      "Accuracy for AdaBoost: 0.6818181818181818\n",
      "Best model: RandomForestRegressor(n_jobs=-1, random_state=42), accuracy: 0.6818181818181818\n"
     ]
    }
   ],
   "source": [
    "X, y, groups, group_kfold = create_folds()\n",
    "best_model = None\n",
    "best_accuracy = 0\n",
    "for model, name in models:\n",
    "    error = 0\n",
    "    total = 0\n",
    "    for fold_idx, (train_idx, test_idx) in enumerate(group_kfold.split(X, y, groups)):\n",
    "        X_train, X_test = X.iloc[train_idx], X.iloc[test_idx]\n",
    "        y_train, y_test = y.iloc[train_idx], y.iloc[test_idx]\n",
    "        X_train = X_train.drop(columns=[\"Year\", \"Player\", \"Team\"])\n",
    "        model.fit(X_train, y_train)\n",
    "        X_test_clean = X_test.drop(columns=[\"Year\", \"Player\", \"Team\"])\n",
    "        y_preds = model.predict(X_test_clean)\n",
    "        X_test2 = X_test.copy()\n",
    "        X_test2[\"Predicted\"] = y_preds\n",
    "        X_test2[\"Actual\"] = y_test\n",
    "        X_predict = X_test2.sort_values(\"Predicted\", ascending=False)\n",
    "        X_real = X_test2.sort_values(\"Actual\", ascending=False)\n",
    "        total += 1\n",
    "        if X_real[\"Player\"].iloc[0] != X_predict[\"Player\"].iloc[0]:\n",
    "            error += 1\n",
    "    \n",
    "    accuracy = (total - error) / total\n",
    "    if accuracy > best_accuracy:\n",
    "        best_accuracy = accuracy\n",
    "        best_model = model\n",
    "            \n",
    "    print(f\"Accuracy for {name}: {(total - error) / total}\")\n",
    "    \n",
    "print(f\"Best model: {best_model}, accuracy: {best_accuracy}\")"
   ]
  },
  {
   "cell_type": "markdown",
   "metadata": {},
   "source": [
    "Save the best model"
   ]
  },
  {
   "cell_type": "code",
   "execution_count": 12,
   "metadata": {},
   "outputs": [
    {
     "data": {
      "text/plain": [
       "['../models/model.joblib']"
      ]
     },
     "execution_count": 12,
     "metadata": {},
     "output_type": "execute_result"
    }
   ],
   "source": [
    "dump(best_model, \"../models/model.joblib\")"
   ]
  }
 ],
 "metadata": {
  "kernelspec": {
   "display_name": "MVP_PREDICTOR",
   "language": "python",
   "name": "python3"
  },
  "language_info": {
   "codemirror_mode": {
    "name": "ipython",
    "version": 3
   },
   "file_extension": ".py",
   "mimetype": "text/x-python",
   "name": "python",
   "nbconvert_exporter": "python",
   "pygments_lexer": "ipython3",
   "version": "3.13.1"
  }
 },
 "nbformat": 4,
 "nbformat_minor": 2
}

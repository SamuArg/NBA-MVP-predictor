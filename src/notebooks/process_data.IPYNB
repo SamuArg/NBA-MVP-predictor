{
 "cells": [
  {
   "cell_type": "code",
   "execution_count": 80,
   "metadata": {},
   "outputs": [],
   "source": [
    "import pandas as pd\n",
    "import numpy as np\n",
    "from sklearn.preprocessing import StandardScaler"
   ]
  },
  {
   "cell_type": "code",
   "execution_count": 81,
   "metadata": {},
   "outputs": [
    {
     "name": "stdout",
     "output_type": "stream",
     "text": [
      "   Year                Team     W     L   W/L%   GB   PS/G   PA/G   SRS  seed\n",
      "0  1981      Boston Celtics  62.0  20.0  0.756    —  109.9  104.0  6.05     1\n",
      "1  1981  Philadelphia 76ers  62.0  20.0  0.756    —  111.7  103.8  7.76     2\n",
      "2  1981     Milwaukee Bucks  60.0  22.0  0.732    —  113.1  105.9  7.14     3\n",
      "3  1981        Phoenix Suns  57.0  25.0  0.695    —  110.0  104.5  4.83     4\n",
      "4  1981  Los Angeles Lakers  54.0  28.0  0.659  3.0  111.2  107.3  3.27     5\n"
     ]
    }
   ],
   "source": [
    "mvps = pd.read_csv('../data/raw/1981_2024_mvps.csv')\n",
    "standings = pd.read_csv('../data/raw/1981_2024_standings.csv')\n",
    "advanced = pd.read_csv('../data/raw/1981_2024_advanced.csv')\n",
    "per_game = pd.read_csv('../data/raw/1981_2024_per_game.csv')\n",
    "print(standings.head(5))"
   ]
  },
  {
   "cell_type": "markdown",
   "metadata": {},
   "source": [
    "There is Divisions values inside standings so we want to remove that"
   ]
  },
  {
   "cell_type": "code",
   "execution_count": 82,
   "metadata": {},
   "outputs": [
    {
     "name": "stdout",
     "output_type": "stream",
     "text": [
      "   Year                Team     W     L   W/L%   GB   PS/G   PA/G   SRS  seed\n",
      "0  1981      Boston Celtics  62.0  20.0  0.756    —  109.9  104.0  6.05     1\n",
      "1  1981  Philadelphia 76ers  62.0  20.0  0.756    —  111.7  103.8  7.76     2\n",
      "2  1981     Milwaukee Bucks  60.0  22.0  0.732    —  113.1  105.9  7.14     3\n",
      "3  1981        Phoenix Suns  57.0  25.0  0.695    —  110.0  104.5  4.83     4\n",
      "4  1981  Los Angeles Lakers  54.0  28.0  0.659  3.0  111.2  107.3  3.27     5\n"
     ]
    }
   ],
   "source": [
    "standings = standings[standings.Team.str.contains('Division') == False]\n",
    "print(standings.head(5))"
   ]
  },
  {
   "cell_type": "markdown",
   "metadata": {},
   "source": [
    "We only want Win percentage and we only want to get the abbreviation of each teams to correlate what we have with our MVPs datas"
   ]
  },
  {
   "cell_type": "code",
   "execution_count": 83,
   "metadata": {},
   "outputs": [
    {
     "name": "stdout",
     "output_type": "stream",
     "text": [
      "   Year                Team   W/L%  seed\n",
      "0  1981      Boston Celtics  0.756     1\n",
      "1  1981  Philadelphia 76ers  0.756     2\n",
      "2  1981     Milwaukee Bucks  0.732     3\n",
      "3  1981        Phoenix Suns  0.695     4\n",
      "4  1981  Los Angeles Lakers  0.659     5\n"
     ]
    }
   ],
   "source": [
    "standings = standings.drop(columns=[\"W\",\"L\",'GB', 'PS/G', 'PA/G', 'SRS'])\n",
    "print(standings.head(5))"
   ]
  },
  {
   "cell_type": "code",
   "execution_count": 84,
   "metadata": {},
   "outputs": [
    {
     "name": "stdout",
     "output_type": "stream",
     "text": [
      "   Year Team   W/L%  seed\n",
      "0  1981  BOS  0.756     1\n",
      "1  1981  PHI  0.756     2\n",
      "2  1981  MIL  0.732     3\n",
      "3  1981  PHO  0.695     4\n",
      "4  1981  LAL  0.659     5\n"
     ]
    }
   ],
   "source": [
    "team_map = {\n",
    "    'Atlanta Hawks': 'ATL',\n",
    "    'Boston Celtics': 'BOS',\n",
    "    'Brooklyn Nets': 'BRK',\n",
    "    'Charlotte Hornets': 'CHH',\n",
    "    'Chicago Bulls': 'CHI',\n",
    "    'Cleveland Cavaliers': 'CLE',\n",
    "    'Dallas Mavericks': 'DAL',\n",
    "    'Denver Nuggets': 'DEN',\n",
    "    'Detroit Pistons': 'DET',\n",
    "    'Golden State Warriors': 'GSW',\n",
    "    'Houston Rockets': 'HOU',\n",
    "    'Indiana Pacers': 'IND',\n",
    "    'Los Angeles Clippers': 'LAC',\n",
    "    'Los Angeles Lakers': 'LAL',\n",
    "    'Memphis Grizzlies': 'MEM',\n",
    "    'Miami Heat': 'MIA',\n",
    "    'Milwaukee Bucks': 'MIL',\n",
    "    'Minnesota Timberwolves': 'MIN',\n",
    "    'New Orleans Pelicans': 'NOP',\n",
    "    'New York Knicks': 'NYK',\n",
    "    'Oklahoma City Thunder': 'OKC',\n",
    "    'Orlando Magic': 'ORL',\n",
    "    'Philadelphia 76ers': 'PHI',\n",
    "    'Phoenix Suns': 'PHO',\n",
    "    'Portland Trail Blazers': 'POR',\n",
    "    'Sacramento Kings': 'SAC',\n",
    "    'San Antonio Spurs': 'SAS',\n",
    "    'Toronto Raptors': 'TOR',\n",
    "    'Utah Jazz': 'UTA',\n",
    "    'Washington Wizards': 'WAS',\n",
    "    'Washington Bullets': 'WSB',\n",
    "    \"New Jersey Nets\": \"NJN\",\n",
    "    \"Kansas City Kings\": \"KCK\",\n",
    "    \"San Diego Clippers\": \"SDC\",\n",
    "    \"Seattle SuperSonics\": \"SEA\",\n",
    "    \"Vancouver Grizzlies\": \"VAN\",\n",
    "    \"New Orleans Hornets\": \"NOH\",\n",
    "    \"Charlotte Bobcats\": \"CHA\",\n",
    "    \"New Orleans/Oklahoma City Hornets\": \"NOK\",\n",
    "}\n",
    "standings['Team'] = standings['Team'].map(team_map)\n",
    "print(standings.head(5))"
   ]
  },
  {
   "cell_type": "markdown",
   "metadata": {},
   "source": [
    "For each player in the MVPs datas we add the W/L% for their corresponding season and remove all non important or redondant columns"
   ]
  },
  {
   "cell_type": "code",
   "execution_count": 85,
   "metadata": {},
   "outputs": [
    {
     "name": "stdout",
     "output_type": "stream",
     "text": [
      "   Year               Player  Share\n",
      "0  1981        Julius Erving  0.658\n",
      "1  1981           Larry Bird  0.613\n",
      "2  1981  Kareem Abdul-Jabbar  0.414\n",
      "3  1981         Moses Malone  0.261\n",
      "4  1981        George Gervin  0.120\n"
     ]
    }
   ],
   "source": [
    "mvps = mvps.drop(columns=[\"Age\", \"First\", \"Pts Won\", \"Pts Max\", \"WS\", \"WS/48\", \"G\", \"MP\", \"PTS\", \"TRB\", \"AST\", \"STL\", \"BLK\", \"FG%\", \"3P%\", \"FT%\", \"Tm\"])\n",
    "print(mvps.head(5))"
   ]
  },
  {
   "cell_type": "code",
   "execution_count": 86,
   "metadata": {},
   "outputs": [],
   "source": [
    "advanced = pd.merge(advanced, standings[['Year', 'Team', 'W/L%', \"seed\"]], left_on=['Year', 'Team'], right_on=[\"Year\", \"Team\"], how='left')\n",
    "advanced = advanced.drop(columns=[\"MP\"])\n",
    "per_game = per_game.drop(columns=[\"Team\", \"Age\", \"G\", \"GS\", \"Pos\", \"Awards\"])\n",
    "advanced = pd.merge(advanced, per_game, left_on=['Year', 'Player'], right_on=[\"Year\", \"Player\"], how='left')"
   ]
  },
  {
   "cell_type": "markdown",
   "metadata": {},
   "source": [
    "We will need the advanced stats as well so we clean that df too and merge it with the mvps"
   ]
  },
  {
   "cell_type": "code",
   "execution_count": 87,
   "metadata": {},
   "outputs": [
    {
     "name": "stdout",
     "output_type": "stream",
     "text": [
      "    Year               Player   Age Team     G   PER    TS%   3PAr    FTr  \\\n",
      "2   1981           Larry Bird  24.0  BOS  82.0  19.9  0.528  0.049  0.218   \n",
      "8   1981  Kareem Abdul-Jabbar  33.0  LAL  80.0  25.5  0.616  0.001  0.379   \n",
      "12  1981      Bill Cartwright  23.0  NYK  82.0  18.4  0.611  0.001  0.463   \n",
      "18  1981        Julius Erving  30.0  PHI  82.0  25.1  0.572  0.012  0.352   \n",
      "21  1981        Artis Gilmore  31.0  CHI  82.0  21.7  0.699  0.000  0.652   \n",
      "\n",
      "    ORB%  ...  ORB  DRB   TRB  AST  STL  BLK  TOV   PF   PTS  Share  \n",
      "2    7.0  ...  2.3  8.6  10.9  5.5  2.0  0.8  3.5  2.9  21.2  0.613  \n",
      "8    7.6  ...  2.5  7.8  10.3  3.4  0.7  2.9  3.1  3.1  26.2  0.414  \n",
      "12   6.1  ...  2.0  5.5   7.5  1.4  0.6  1.0  2.4  3.2  20.1  0.000  \n",
      "18  10.0  ...  3.0  5.0   8.0  4.4  2.1  1.8  3.2  2.8  24.6  0.658  \n",
      "21   9.2  ...  2.7  7.4  10.1  2.1  0.6  2.4  2.9  3.6  17.9  0.006  \n",
      "\n",
      "[5 rows x 50 columns]\n"
     ]
    }
   ],
   "source": [
    "advanced = advanced.drop_duplicates(subset=['Player', 'Year'], keep='first')\n",
    "advanced = advanced[advanced.Team.str.contains('TOT') == False]\n",
    "advanced = advanced[advanced.Team.str.contains('TM') == False]\n",
    "advanced = advanced.drop(columns=[\"Pos\", \"WS\", \"Awards\", \"GS\"])\n",
    "advanced = advanced[advanced.Player.str.contains('League') == False]\n",
    "mvps = pd.merge(advanced, mvps, on=['Year', 'Player'], how=\"left\")\n",
    "mvps.fillna(0, inplace=True)\n",
    "mvps = mvps[mvps[\"G\"] > 48]\n",
    "mvps = mvps[mvps[\"PER\"] > 18]\n",
    "mvps = mvps[mvps[\"W/L%\"] > 0.5]\n",
    "mvps = mvps[mvps[\"MP\"] > 30]\n",
    "print(mvps.head(5))"
   ]
  },
  {
   "cell_type": "markdown",
   "metadata": {},
   "source": [
    "Now we want to scale our data to have so we use StandardScaler"
   ]
  },
  {
   "cell_type": "code",
   "execution_count": 88,
   "metadata": {},
   "outputs": [
    {
     "name": "stdout",
     "output_type": "stream",
     "text": [
      "        Age         G       PER       TS%      3PAr       FTr      ORB%  \\\n",
      "0 -0.815693  0.614919 -0.597857 -1.110137  0.879704 -1.443835 -0.129735   \n",
      "1  1.725503 -0.391312  1.585619  0.617228 -0.871596 -0.118032  0.174860   \n",
      "2 -1.098048  0.614919 -1.182716  0.519082 -0.871596  0.573691 -0.586626   \n",
      "3  0.878438  0.614919  1.429657 -0.246455 -0.470257 -0.340372  1.393236   \n",
      "4  1.160793  0.614919  0.103975  2.246446 -0.908082  2.130068  0.987111   \n",
      "\n",
      "       DRB%      TRB%      AST%  ...       AST       STL       BLK       TOV  \\\n",
      "0  1.342074  1.116741  0.639205  ...  1.122679  0.992746 -0.449719  1.557757   \n",
      "1  0.967163  0.928627 -0.521607  ... -0.371591 -1.081384  1.911306  0.338643   \n",
      "2  0.445547  0.122424 -1.887268  ... -1.794705 -1.240932 -0.224860 -1.794806   \n",
      "3 -0.157571  0.256791  0.536781  ...  0.339966  1.152294  0.674579  0.643421   \n",
      "4  1.293173  1.385476 -1.323932  ... -1.296615 -1.240932  1.349157 -0.270914   \n",
      "\n",
      "         PF       PTS     Share               Player  Year  Team  \n",
      "0 -0.412568 -0.183924  1.553474           Larry Bird  1981   BOS  \n",
      "1  0.206284  1.407723  0.778684  Kareem Abdul-Jabbar  1981   LAL  \n",
      "2  0.515711 -0.534086 -0.833192      Bill Cartwright  1981   NYK  \n",
      "3 -0.721995  0.898396  1.728678        Julius Erving  1981   PHI  \n",
      "4  1.753416 -1.234411 -0.809831        Artis Gilmore  1981   CHI  \n",
      "\n",
      "[5 rows x 50 columns]\n"
     ]
    },
    {
     "name": "stderr",
     "output_type": "stream",
     "text": [
      "C:\\Users\\Samuel\\AppData\\Local\\Temp\\ipykernel_65724\\4056481021.py:2: DeprecationWarning: DataFrameGroupBy.apply operated on the grouping columns. This behavior is deprecated, and in a future version of pandas the grouping columns will be excluded from the operation. Either pass `include_groups=False` to exclude the groupings or explicitly select the grouping columns after groupby to silence this warning.\n",
      "  mvps_scaled = mvps.groupby('Year').apply(lambda x: pd.DataFrame(scaler.fit_transform(x.drop(columns=[\"Player\", \"Year\", \"Team\"])), columns=x.columns.drop([\"Player\", \"Year\", \"Team\"])))\n"
     ]
    }
   ],
   "source": [
    "scaler = StandardScaler()\n",
    "mvps_scaled = mvps.groupby('Year').apply(lambda x: pd.DataFrame(scaler.fit_transform(x.drop(columns=[\"Player\", \"Year\", \"Team\"])), columns=x.columns.drop([\"Player\", \"Year\", \"Team\"])))\n",
    "mvps_scaled = mvps_scaled.reset_index(drop=True)\n",
    "mvps_scaled[[\"Player\", \"Year\", \"Team\"]] = mvps[[\"Player\", \"Year\", \"Team\"]].reset_index(drop=True)\n",
    "print(mvps_scaled.head(5))\n",
    "mvps_scaled.to_csv(\"../data/processed/mvps.csv\", index=False)"
   ]
  }
 ],
 "metadata": {
  "kernelspec": {
   "display_name": "MVP_PREDICTOR",
   "language": "python",
   "name": "python3"
  },
  "language_info": {
   "codemirror_mode": {
    "name": "ipython",
    "version": 3
   },
   "file_extension": ".py",
   "mimetype": "text/x-python",
   "name": "python",
   "nbconvert_exporter": "python",
   "pygments_lexer": "ipython3",
   "version": "3.13.1"
  }
 },
 "nbformat": 4,
 "nbformat_minor": 2
}

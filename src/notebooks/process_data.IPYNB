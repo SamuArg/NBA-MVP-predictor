{
 "cells": [
  {
   "cell_type": "code",
   "execution_count": 1,
   "metadata": {},
   "outputs": [],
   "source": [
    "import pandas as pd\n",
    "import sys\n",
    "import os\n",
    "project_root = os.path.abspath(os.path.join(os.getcwd(), '..'))\n",
    "if project_root not in sys.path:\n",
    "    sys.path.append(project_root)\n",
    "from scripts.Processed import Processed"
   ]
  },
  {
   "cell_type": "code",
   "execution_count": null,
   "metadata": {},
   "outputs": [
    {
     "name": "stdout",
     "output_type": "stream",
     "text": [
      "    Year               Player   Age Team     G   PER    TS%   3PAr    FTr  \\\n",
      "2   1981           Larry Bird  24.0  BOS  82.0  19.9  0.528  0.049  0.218   \n",
      "8   1981  Kareem Abdul-Jabbar  33.0  LAL  80.0  25.5  0.616  0.001  0.379   \n",
      "12  1981      Bill Cartwright  23.0  NYK  82.0  18.4  0.611  0.001  0.463   \n",
      "18  1981        Julius Erving  30.0  PHI  82.0  25.1  0.572  0.012  0.352   \n",
      "21  1981        Artis Gilmore  31.0  CHI  82.0  21.7  0.699  0.000  0.652   \n",
      "\n",
      "    ORB%  ...    FT%  ORB  DRB   TRB  AST  STL  BLK  TOV   PF   PTS  \n",
      "2    7.0  ...  0.863  2.3  8.6  10.9  5.5  2.0  0.8  3.5  2.9  21.2  \n",
      "8    7.6  ...  0.766  2.5  7.8  10.3  3.4  0.7  2.9  3.1  3.1  26.2  \n",
      "12   6.1  ...  0.788  2.0  5.5   7.5  1.4  0.6  1.0  2.4  3.2  20.1  \n",
      "18  10.0  ...  0.787  3.0  5.0   8.0  4.4  2.1  1.8  3.2  2.8  24.6  \n",
      "21   9.2  ...  0.705  2.7  7.4  10.1  2.1  0.6  2.4  2.9  3.6  17.9  \n",
      "\n",
      "[5 rows x 49 columns]\n",
      "        Age         G       PER       TS%      3PAr       FTr      ORB%  \\\n",
      "0 -0.605893  0.422068 -0.712921 -1.164753  0.910455 -1.512419 -0.199404   \n",
      "1  1.764992  0.271329  1.323995  0.655820 -0.933504 -0.115405  0.115445   \n",
      "2 -0.869325  0.422068 -1.258523  0.552378 -0.933504  0.613471 -0.671678   \n",
      "3  0.974697  0.422068  1.178501 -0.254466 -0.510930 -0.349687  1.374840   \n",
      "4  1.238129  0.422068 -0.058198  2.372952 -0.971920  2.253443  0.955042   \n",
      "\n",
      "       DRB%      TRB%      AST%  ...       TRB       AST       STL       BLK  \\\n",
      "0  1.399062  1.138937  0.310664  ...  1.375839  0.573439  0.494426 -0.408387   \n",
      "1  1.004235  0.941596 -0.636653  ...  1.133756 -0.511445 -1.035940  2.041936   \n",
      "2  0.454910  0.095851 -1.751143  ...  0.004035 -1.544668 -1.153660 -0.175023   \n",
      "3 -0.180247  0.236809  0.227077  ...  0.205771  0.005166  0.612146  0.758433   \n",
      "4  1.347563  1.420852 -1.291416  ...  1.053062 -1.183040 -1.153660  1.458526   \n",
      "\n",
      "        TOV        PF       PTS               Player  Year  Team  \n",
      "0  1.013890 -0.310087 -0.187877           Larry Bird  1981   BOS  \n",
      "1  0.048280  0.310087  1.489597  Kareem Abdul-Jabbar  1981   LAL  \n",
      "2 -1.641535  0.620174 -0.556922      Bill Cartwright  1981   NYK  \n",
      "3  0.289683 -0.620174  0.952806        Julius Erving  1981   PHI  \n",
      "4 -0.434524  1.860521 -1.295010        Artis Gilmore  1981   CHI  \n",
      "\n",
      "[5 rows x 49 columns]\n"
     ]
    }
   ],
   "source": [
    "mvps = pd.read_csv('../data/raw/1981_2024_mvps.csv')\n",
    "standings = pd.read_csv('../data/raw/1981_2024_standings.csv')\n",
    "advanced = pd.read_csv('../data/raw/1981_2024_advanced.csv')\n",
    "per_game = pd.read_csv('../data/raw/1981_2024_per_game.csv')\n",
    "pro = Processed(mvps, standings, advanced, per_game)\n",
    "print(standings.head(5))"
   ]
  },
  {
   "cell_type": "markdown",
   "metadata": {},
   "source": [
    "There is Divisions values inside standings so we want to remove that"
   ]
  },
  {
   "cell_type": "code",
   "execution_count": 3,
   "metadata": {},
   "outputs": [
    {
     "name": "stdout",
     "output_type": "stream",
     "text": [
      "   Year                Team     W     L   W/L%   GB   PS/G   PA/G   SRS  seed\n",
      "0  1981      Boston Celtics  62.0  20.0  0.756    —  109.9  104.0  6.05     1\n",
      "1  1981  Philadelphia 76ers  62.0  20.0  0.756    —  111.7  103.8  7.76     2\n",
      "2  1981     Milwaukee Bucks  60.0  22.0  0.732    —  113.1  105.9  7.14     3\n",
      "3  1981        Phoenix Suns  57.0  25.0  0.695    —  110.0  104.5  4.83     4\n",
      "4  1981  Los Angeles Lakers  54.0  28.0  0.659  3.0  111.2  107.3  3.27     5\n"
     ]
    }
   ],
   "source": [
    "standings = pro.remove_divisions()\n",
    "print(standings.head(5))"
   ]
  },
  {
   "cell_type": "markdown",
   "metadata": {},
   "source": [
    "We only want Win percentage and we only want to get the abbreviation of each teams to correlate what we have with our MVPs datas"
   ]
  },
  {
   "cell_type": "code",
   "execution_count": 4,
   "metadata": {},
   "outputs": [
    {
     "name": "stdout",
     "output_type": "stream",
     "text": [
      "   Year                Team   W/L%  seed\n",
      "0  1981      Boston Celtics  0.756     1\n",
      "1  1981  Philadelphia 76ers  0.756     2\n",
      "2  1981     Milwaukee Bucks  0.732     3\n",
      "3  1981        Phoenix Suns  0.695     4\n",
      "4  1981  Los Angeles Lakers  0.659     5\n"
     ]
    }
   ],
   "source": [
    "standings = pro.clean_stats_standings()\n",
    "print(standings.head(5))"
   ]
  },
  {
   "cell_type": "code",
   "execution_count": 5,
   "metadata": {},
   "outputs": [
    {
     "name": "stdout",
     "output_type": "stream",
     "text": [
      "   Year Team   W/L%  seed\n",
      "0  1981  BOS  0.756     1\n",
      "1  1981  PHI  0.756     2\n",
      "2  1981  MIL  0.732     3\n",
      "3  1981  PHO  0.695     4\n",
      "4  1981  LAL  0.659     5\n"
     ]
    }
   ],
   "source": [
    "standings = pro.update_team_names()\n",
    "print(standings.head(5))"
   ]
  },
  {
   "cell_type": "markdown",
   "metadata": {},
   "source": [
    "For each player in the MVPs datas we add the W/L% for their corresponding season and remove all non important or redondant columns"
   ]
  },
  {
   "cell_type": "code",
   "execution_count": 6,
   "metadata": {},
   "outputs": [
    {
     "name": "stdout",
     "output_type": "stream",
     "text": [
      "   Year               Player  Share\n",
      "0  1981        Julius Erving  0.658\n",
      "1  1981           Larry Bird  0.613\n",
      "2  1981  Kareem Abdul-Jabbar  0.414\n",
      "3  1981         Moses Malone  0.261\n",
      "4  1981        George Gervin  0.120\n"
     ]
    }
   ],
   "source": [
    "mvps = pro.clean_mvps()\n",
    "print(mvps.head(5))"
   ]
  },
  {
   "cell_type": "code",
   "execution_count": 7,
   "metadata": {},
   "outputs": [],
   "source": [
    "mvps = pro.merge_stats()"
   ]
  },
  {
   "cell_type": "markdown",
   "metadata": {},
   "source": [
    "We will need the advanced stats as well so we clean that df too and merge it with the mvps"
   ]
  },
  {
   "cell_type": "code",
   "execution_count": 8,
   "metadata": {},
   "outputs": [
    {
     "name": "stdout",
     "output_type": "stream",
     "text": [
      "    Year               Player   Age Team     G   PER    TS%   3PAr    FTr  \\\n",
      "2   1981           Larry Bird  24.0  BOS  82.0  19.9  0.528  0.049  0.218   \n",
      "8   1981  Kareem Abdul-Jabbar  33.0  LAL  80.0  25.5  0.616  0.001  0.379   \n",
      "12  1981      Bill Cartwright  23.0  NYK  82.0  18.4  0.611  0.001  0.463   \n",
      "18  1981        Julius Erving  30.0  PHI  82.0  25.1  0.572  0.012  0.352   \n",
      "21  1981        Artis Gilmore  31.0  CHI  82.0  21.7  0.699  0.000  0.652   \n",
      "\n",
      "    ORB%  ...  ORB  DRB   TRB  AST  STL  BLK  TOV   PF   PTS  Share  \n",
      "2    7.0  ...  2.3  8.6  10.9  5.5  2.0  0.8  3.5  2.9  21.2  0.613  \n",
      "8    7.6  ...  2.5  7.8  10.3  3.4  0.7  2.9  3.1  3.1  26.2  0.414  \n",
      "12   6.1  ...  2.0  5.5   7.5  1.4  0.6  1.0  2.4  3.2  20.1  0.000  \n",
      "18  10.0  ...  3.0  5.0   8.0  4.4  2.1  1.8  3.2  2.8  24.6  0.658  \n",
      "21   9.2  ...  2.7  7.4  10.1  2.1  0.6  2.4  2.9  3.6  17.9  0.006  \n",
      "\n",
      "[5 rows x 50 columns]\n"
     ]
    }
   ],
   "source": [
    "mvps = pro.merge_stats_mvps()\n",
    "mvps = pro.remove_bad_players()\n",
    "print(mvps.head(5))"
   ]
  },
  {
   "cell_type": "markdown",
   "metadata": {},
   "source": [
    "Now we want to scale our data to have so we use StandardScaler"
   ]
  },
  {
   "cell_type": "code",
   "execution_count": 9,
   "metadata": {},
   "outputs": [
    {
     "name": "stdout",
     "output_type": "stream",
     "text": [
      "    Year               Player   Age Team     G   PER    TS%   3PAr    FTr  \\\n",
      "2   1981           Larry Bird  24.0  BOS  82.0  19.9  0.528  0.049  0.218   \n",
      "8   1981  Kareem Abdul-Jabbar  33.0  LAL  80.0  25.5  0.616  0.001  0.379   \n",
      "12  1981      Bill Cartwright  23.0  NYK  82.0  18.4  0.611  0.001  0.463   \n",
      "18  1981        Julius Erving  30.0  PHI  82.0  25.1  0.572  0.012  0.352   \n",
      "21  1981        Artis Gilmore  31.0  CHI  82.0  21.7  0.699  0.000  0.652   \n",
      "\n",
      "    ORB%  ...  ORB  DRB   TRB  AST  STL  BLK  TOV   PF   PTS  Share  \n",
      "2    7.0  ...  2.3  8.6  10.9  5.5  2.0  0.8  3.5  2.9  21.2  0.613  \n",
      "8    7.6  ...  2.5  7.8  10.3  3.4  0.7  2.9  3.1  3.1  26.2  0.414  \n",
      "12   6.1  ...  2.0  5.5   7.5  1.4  0.6  1.0  2.4  3.2  20.1  0.000  \n",
      "18  10.0  ...  3.0  5.0   8.0  4.4  2.1  1.8  3.2  2.8  24.6  0.658  \n",
      "21   9.2  ...  2.7  7.4  10.1  2.1  0.6  2.4  2.9  3.6  17.9  0.006  \n",
      "\n",
      "[5 rows x 50 columns]\n",
      "        Age         G       PER       TS%      3PAr       FTr      ORB%  \\\n",
      "0 -0.605893  0.422068 -0.712921 -1.164753  0.910455 -1.512419 -0.199404   \n",
      "1  1.764992  0.271329  1.323995  0.655820 -0.933504 -0.115405  0.115445   \n",
      "2 -0.869325  0.422068 -1.258523  0.552378 -0.933504  0.613471 -0.671678   \n",
      "3  0.974697  0.422068  1.178501 -0.254466 -0.510930 -0.349687  1.374840   \n",
      "4  1.238129  0.422068 -0.058198  2.372952 -0.971920  2.253443  0.955042   \n",
      "\n",
      "       DRB%      TRB%      AST%  ...       AST       STL       BLK       TOV  \\\n",
      "0  1.399062  1.138937  0.310664  ...  0.573439  0.494426 -0.408387  1.013890   \n",
      "1  1.004235  0.941596 -0.636653  ... -0.511445 -1.035940  2.041936  0.048280   \n",
      "2  0.454910  0.095851 -1.751143  ... -1.544668 -1.153660 -0.175023 -1.641535   \n",
      "3 -0.180247  0.236809  0.227077  ...  0.005166  0.612146  0.758433  0.289683   \n",
      "4  1.347563  1.420852 -1.291416  ... -1.183040 -1.153660  1.458526 -0.434524   \n",
      "\n",
      "         PF       PTS     Share               Player  Year  Team  \n",
      "0 -0.310087 -0.187877  1.670495           Larry Bird  1981   BOS  \n",
      "1  0.310087  1.489597  0.874831  Kareem Abdul-Jabbar  1981   LAL  \n",
      "2  0.620174 -0.556922 -0.780471      Bill Cartwright  1981   NYK  \n",
      "3 -0.620174  0.952806  1.850419        Julius Erving  1981   PHI  \n",
      "4  1.860521 -1.295010 -0.756481        Artis Gilmore  1981   CHI  \n",
      "\n",
      "[5 rows x 50 columns]\n"
     ]
    }
   ],
   "source": [
    "mvps_scaled = pro.scale()\n",
    "print(mvps_scaled.head(5))\n",
    "mvps_scaled.to_csv(\"../data/processed/mvps.csv\", index=False)"
   ]
  }
 ],
 "metadata": {
  "kernelspec": {
   "display_name": "MVP_PREDICTOR",
   "language": "python",
   "name": "python3"
  },
  "language_info": {
   "codemirror_mode": {
    "name": "ipython",
    "version": 3
   },
   "file_extension": ".py",
   "mimetype": "text/x-python",
   "name": "python",
   "nbconvert_exporter": "python",
   "pygments_lexer": "ipython3",
   "version": "3.13.1"
  }
 },
 "nbformat": 4,
 "nbformat_minor": 2
}

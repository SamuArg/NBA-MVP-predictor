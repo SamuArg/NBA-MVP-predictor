{
 "cells": [
  {
   "cell_type": "code",
   "execution_count": 152,
   "metadata": {},
   "outputs": [],
   "source": [
    "import pandas as pd\n",
    "import numpy as np"
   ]
  },
  {
   "cell_type": "code",
   "execution_count": 153,
   "metadata": {},
   "outputs": [
    {
     "name": "stdout",
     "output_type": "stream",
     "text": [
      "   Year                Team     W     L   W/L%    GB   PS/G   PA/G   SRS\n",
      "0  1981   Atlantic Division   NaN   NaN    NaN   NaN    NaN    NaN   NaN\n",
      "1  1981      Boston Celtics  62.0  20.0  0.756     —  109.9  104.0  6.05\n",
      "2  1981  Philadelphia 76ers  62.0  20.0  0.756     —  111.7  103.8  7.76\n",
      "3  1981     New York Knicks  50.0  32.0  0.610  12.0  107.9  106.3  2.00\n",
      "4  1981  Washington Bullets  39.0  43.0  0.476  23.0  105.6  105.6  0.42\n"
     ]
    }
   ],
   "source": [
    "mvps = pd.read_csv('../data/raw/1981_2024_mvps.csv')\n",
    "standings = pd.read_csv('../data/raw/1981_2024_standings.csv')\n",
    "print(standings.head(5))"
   ]
  },
  {
   "cell_type": "markdown",
   "metadata": {},
   "source": [
    "There is Divisions values inside standings so we want to remove that"
   ]
  },
  {
   "cell_type": "code",
   "execution_count": 154,
   "metadata": {},
   "outputs": [
    {
     "name": "stdout",
     "output_type": "stream",
     "text": [
      "   Year                Team     W     L   W/L%    GB   PS/G   PA/G   SRS\n",
      "1  1981      Boston Celtics  62.0  20.0  0.756     —  109.9  104.0  6.05\n",
      "2  1981  Philadelphia 76ers  62.0  20.0  0.756     —  111.7  103.8  7.76\n",
      "3  1981     New York Knicks  50.0  32.0  0.610  12.0  107.9  106.3  2.00\n",
      "4  1981  Washington Bullets  39.0  43.0  0.476  23.0  105.6  105.6  0.42\n",
      "5  1981     New Jersey Nets  24.0  58.0  0.293  38.0  106.9  113.0 -5.15\n"
     ]
    }
   ],
   "source": [
    "standings = standings[standings.Team.str.contains('Division') == False]\n",
    "print(standings.head(5))"
   ]
  },
  {
   "cell_type": "markdown",
   "metadata": {},
   "source": [
    "We only want Win percentage and we only want to get the abbreviation of each teams to correlate what we have with our MVPs datas"
   ]
  },
  {
   "cell_type": "code",
   "execution_count": 155,
   "metadata": {},
   "outputs": [
    {
     "name": "stdout",
     "output_type": "stream",
     "text": [
      "   Year                Team   W/L%\n",
      "1  1981      Boston Celtics  0.756\n",
      "2  1981  Philadelphia 76ers  0.756\n",
      "3  1981     New York Knicks  0.610\n",
      "4  1981  Washington Bullets  0.476\n",
      "5  1981     New Jersey Nets  0.293\n"
     ]
    }
   ],
   "source": [
    "standings = standings.drop(columns=[\"W\",\"L\",'GB', 'PS/G', 'PA/G', 'SRS'])\n",
    "print(standings.head(5))"
   ]
  },
  {
   "cell_type": "code",
   "execution_count": 156,
   "metadata": {},
   "outputs": [
    {
     "name": "stdout",
     "output_type": "stream",
     "text": [
      "   Year Team   W/L%\n",
      "1  1981  BOS  0.756\n",
      "2  1981  PHI  0.756\n",
      "3  1981  NYK  0.610\n",
      "4  1981  WSB  0.476\n",
      "5  1981  NJN  0.293\n"
     ]
    }
   ],
   "source": [
    "team_map = {\n",
    "    'Atlanta Hawks': 'ATL',\n",
    "    'Boston Celtics': 'BOS',\n",
    "    'Brooklyn Nets': 'BRK',\n",
    "    'Charlotte Hornets': 'CHO',\n",
    "    'Chicago Bulls': 'CHI',\n",
    "    'Cleveland Cavaliers': 'CLE',\n",
    "    'Dallas Mavericks': 'DAL',\n",
    "    'Denver Nuggets': 'DEN',\n",
    "    'Detroit Pistons': 'DET',\n",
    "    'Golden State Warriors': 'GSW',\n",
    "    'Houston Rockets': 'HOU',\n",
    "    'Indiana Pacers': 'IND',\n",
    "    'Los Angeles Clippers': 'LAC',\n",
    "    'Los Angeles Lakers': 'LAL',\n",
    "    'Memphis Grizzlies': 'MEM',\n",
    "    'Miami Heat': 'MIA',\n",
    "    'Milwaukee Bucks': 'MIL',\n",
    "    'Minnesota Timberwolves': 'MIN',\n",
    "    'New Orleans Pelicans': 'NOP',\n",
    "    'New York Knicks': 'NYK',\n",
    "    'Oklahoma City Thunder': 'OKC',\n",
    "    'Orlando Magic': 'ORL',\n",
    "    'Philadelphia 76ers': 'PHI',\n",
    "    'Phoenix Suns': 'PHO',\n",
    "    'Portland Trail Blazers': 'POR',\n",
    "    'Sacramento Kings': 'SAC',\n",
    "    'San Antonio Spurs': 'SAS',\n",
    "    'Toronto Raptors': 'TOR',\n",
    "    'Utah Jazz': 'UTA',\n",
    "    'Washington Wizards': 'WAS',\n",
    "    'Washington Bullets': 'WSB',\n",
    "    \"New Jersey Nets\": \"NJN\",\n",
    "    \"Kansas City Kings\": \"KCK\",\n",
    "    \"San Diego Clippers\": \"SDC\",\n",
    "    \"Seattle SuperSonics\": \"SEA\",\n",
    "    \"Vancouver Grizzlies\": \"VAN\",\n",
    "    \"New Orleans Hornets\": \"NOH\",\n",
    "    \"Charlotte Bobcats\": \"CHA\",\n",
    "    \"New Orleans/Oklahoma City Hornets\": \"NOK\",\n",
    "}\n",
    "standings['Team'] = standings['Team'].map(team_map)\n",
    "print(standings.head(5))"
   ]
  },
  {
   "cell_type": "markdown",
   "metadata": {},
   "source": [
    "For each player in the MVPs datas we add the W/L% for their corresponding season and remove all non important or redondant columns"
   ]
  },
  {
   "cell_type": "code",
   "execution_count": 157,
   "metadata": {},
   "outputs": [
    {
     "name": "stdout",
     "output_type": "stream",
     "text": [
      "   Year               Player   Tm  Share   G    MP   PTS   TRB  AST  STL  BLK  \\\n",
      "0  1981        Julius Erving  PHI  0.658  82  35.0  24.6   8.0  4.4  2.1  1.8   \n",
      "1  1981           Larry Bird  BOS  0.613  82  39.5  21.2  10.9  5.5  2.0  0.8   \n",
      "2  1981  Kareem Abdul-Jabbar  LAL  0.414  80  37.2  26.2  10.3  3.4  0.7  2.9   \n",
      "3  1981         Moses Malone  HOU  0.261  80  40.6  27.8  14.8  1.8  1.0  1.9   \n",
      "4  1981        George Gervin  SAS  0.120  82  33.7  27.1   5.1  3.2  1.1  0.7   \n",
      "\n",
      "     FG%    3P%    FT%  WS/48  \n",
      "0  0.521  0.222  0.787  0.231  \n",
      "1  0.478  0.270  0.863  0.160  \n",
      "2  0.574  0.000  0.766  0.230  \n",
      "3  0.522  0.333  0.757  0.202  \n",
      "4  0.492  0.257  0.826  0.182  \n"
     ]
    }
   ],
   "source": [
    "mvps = mvps.drop(columns=[\"Age\", \"First\", \"Pts Won\", \"Pts Max\", \"WS\"])\n",
    "print(mvps.head(5))"
   ]
  },
  {
   "cell_type": "code",
   "execution_count": 158,
   "metadata": {},
   "outputs": [
    {
     "name": "stdout",
     "output_type": "stream",
     "text": [
      "   Year               Player   Tm  Share   G    MP   PTS   TRB  AST  STL  BLK  \\\n",
      "0  1981        Julius Erving  PHI  0.658  82  35.0  24.6   8.0  4.4  2.1  1.8   \n",
      "1  1981           Larry Bird  BOS  0.613  82  39.5  21.2  10.9  5.5  2.0  0.8   \n",
      "2  1981  Kareem Abdul-Jabbar  LAL  0.414  80  37.2  26.2  10.3  3.4  0.7  2.9   \n",
      "3  1981         Moses Malone  HOU  0.261  80  40.6  27.8  14.8  1.8  1.0  1.9   \n",
      "4  1981        George Gervin  SAS  0.120  82  33.7  27.1   5.1  3.2  1.1  0.7   \n",
      "\n",
      "     FG%    3P%    FT%  WS/48   W/L%  \n",
      "0  0.521  0.222  0.787  0.231  0.756  \n",
      "1  0.478  0.270  0.863  0.160  0.756  \n",
      "2  0.574  0.000  0.766  0.230  0.659  \n",
      "3  0.522  0.333  0.757  0.202  0.488  \n",
      "4  0.492  0.257  0.826  0.182  0.634  \n"
     ]
    }
   ],
   "source": [
    "mvps = pd.merge(mvps, standings[['Year', 'Team', 'W/L%']], left_on=['Year', 'Tm'], right_on=[\"Year\", \"Team\"], how='left')\n",
    "mvps = mvps.drop(columns=[\"Team\"])\n",
    "print(mvps.head(5))\n",
    "mvps.to_csv(\"../data/processed/mvps.csv\", index=False)"
   ]
  }
 ],
 "metadata": {
  "kernelspec": {
   "display_name": "mvp_predictor",
   "language": "python",
   "name": "python3"
  },
  "language_info": {
   "codemirror_mode": {
    "name": "ipython",
    "version": 3
   },
   "file_extension": ".py",
   "mimetype": "text/x-python",
   "name": "python",
   "nbconvert_exporter": "python",
   "pygments_lexer": "ipython3",
   "version": "3.13.1"
  }
 },
 "nbformat": 4,
 "nbformat_minor": 2
}

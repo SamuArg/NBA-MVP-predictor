{
 "cells": [
  {
   "cell_type": "code",
   "execution_count": 1,
   "metadata": {},
   "outputs": [],
   "source": [
    "import pandas as pd\n",
    "import sys\n",
    "import os\n",
    "project_root = os.path.abspath(os.path.join(os.getcwd(), '..'))\n",
    "if project_root not in sys.path:\n",
    "    sys.path.append(project_root)\n",
    "from scripts.Processed import Processed"
   ]
  },
  {
   "cell_type": "code",
   "execution_count": 2,
   "metadata": {},
   "outputs": [
    {
     "name": "stdout",
     "output_type": "stream",
     "text": [
      "   Year                Team     W     L   W/L%   GB   PS/G   PA/G   SRS  seed\n",
      "0  1981      Boston Celtics  62.0  20.0  0.756    —  109.9  104.0  6.05     1\n",
      "1  1981  Philadelphia 76ers  62.0  20.0  0.756    —  111.7  103.8  7.76     2\n",
      "2  1981     Milwaukee Bucks  60.0  22.0  0.732    —  113.1  105.9  7.14     3\n",
      "3  1981        Phoenix Suns  57.0  25.0  0.695    —  110.0  104.5  4.83     4\n",
      "4  1981  Los Angeles Lakers  54.0  28.0  0.659  3.0  111.2  107.3  3.27     5\n"
     ]
    }
   ],
   "source": [
    "mvps = pd.read_csv('../data/raw/1981_2024_mvps.csv')\n",
    "standings = pd.read_csv('../data/raw/1981_2024_standings.csv')\n",
    "advanced = pd.read_csv('../data/raw/1981_2024_advanced.csv')\n",
    "per_game = pd.read_csv('../data/raw/1981_2024_per_game.csv')\n",
    "pro = Processed(mvps, standings, advanced, per_game)\n",
    "print(standings.head(5))"
   ]
  },
  {
   "cell_type": "markdown",
   "metadata": {},
   "source": [
    "There is Divisions values inside standings so we want to remove that"
   ]
  },
  {
   "cell_type": "code",
   "execution_count": 3,
   "metadata": {},
   "outputs": [
    {
     "name": "stdout",
     "output_type": "stream",
     "text": [
      "   Year                Team     W     L   W/L%   GB   PS/G   PA/G   SRS  seed\n",
      "0  1981      Boston Celtics  62.0  20.0  0.756    —  109.9  104.0  6.05     1\n",
      "1  1981  Philadelphia 76ers  62.0  20.0  0.756    —  111.7  103.8  7.76     2\n",
      "2  1981     Milwaukee Bucks  60.0  22.0  0.732    —  113.1  105.9  7.14     3\n",
      "3  1981        Phoenix Suns  57.0  25.0  0.695    —  110.0  104.5  4.83     4\n",
      "4  1981  Los Angeles Lakers  54.0  28.0  0.659  3.0  111.2  107.3  3.27     5\n"
     ]
    }
   ],
   "source": [
    "standings = pro.remove_divisions()\n",
    "print(standings.head(5))"
   ]
  },
  {
   "cell_type": "markdown",
   "metadata": {},
   "source": [
    "We only want Win percentage and we only want to get the abbreviation of each teams to correlate what we have with our MVPs datas"
   ]
  },
  {
   "cell_type": "code",
   "execution_count": 4,
   "metadata": {},
   "outputs": [
    {
     "name": "stdout",
     "output_type": "stream",
     "text": [
      "   Year                Team   W/L%  seed\n",
      "0  1981      Boston Celtics  0.756     1\n",
      "1  1981  Philadelphia 76ers  0.756     2\n",
      "2  1981     Milwaukee Bucks  0.732     3\n",
      "3  1981        Phoenix Suns  0.695     4\n",
      "4  1981  Los Angeles Lakers  0.659     5\n"
     ]
    }
   ],
   "source": [
    "standings = pro.clean_stats_standings()\n",
    "print(standings.head(5))"
   ]
  },
  {
   "cell_type": "code",
   "execution_count": 5,
   "metadata": {},
   "outputs": [
    {
     "name": "stdout",
     "output_type": "stream",
     "text": [
      "   Year Team   W/L%  seed\n",
      "0  1981  BOS  0.756     1\n",
      "1  1981  PHI  0.756     2\n",
      "2  1981  MIL  0.732     3\n",
      "3  1981  PHO  0.695     4\n",
      "4  1981  LAL  0.659     5\n"
     ]
    }
   ],
   "source": [
    "standings = pro.update_team_names()\n",
    "print(standings.head(5))"
   ]
  },
  {
   "cell_type": "markdown",
   "metadata": {},
   "source": [
    "For each player in the MVPs datas we add the W/L% for their corresponding season and remove all non important or redondant columns"
   ]
  },
  {
   "cell_type": "code",
   "execution_count": 6,
   "metadata": {},
   "outputs": [
    {
     "name": "stdout",
     "output_type": "stream",
     "text": [
      "   Year               Player  Share\n",
      "0  1981        Julius Erving  0.658\n",
      "1  1981           Larry Bird  0.613\n",
      "2  1981  Kareem Abdul-Jabbar  0.414\n",
      "3  1981         Moses Malone  0.261\n",
      "4  1981        George Gervin  0.120\n"
     ]
    }
   ],
   "source": [
    "mvps = pro.clean_mvps()\n",
    "print(mvps.head(5))"
   ]
  },
  {
   "cell_type": "code",
   "execution_count": 7,
   "metadata": {},
   "outputs": [],
   "source": [
    "mvps = pro.merge_stats()"
   ]
  },
  {
   "cell_type": "markdown",
   "metadata": {},
   "source": [
    "We will need the advanced stats as well so we clean that df too and merge it with the mvps"
   ]
  },
  {
   "cell_type": "code",
   "execution_count": 8,
   "metadata": {},
   "outputs": [
    {
     "name": "stdout",
     "output_type": "stream",
     "text": [
      "   Year                  Player   Age Team     G   PER    TS%   3PAr    FTr  \\\n",
      "0  1981          Adrian Dantley  25.0  UTA  80.0  24.3  0.622  0.004  0.482   \n",
      "1  1981            Moses Malone  25.0  HOU  80.0  25.1  0.585  0.002  0.520   \n",
      "2  1981              Larry Bird  24.0  BOS  82.0  19.9  0.528  0.049  0.218   \n",
      "3  1981           Mike Mitchell  25.0  CLE  82.0  17.5  0.513  0.005  0.215   \n",
      "4  1981  Michael Ray Richardson  25.0  NYK  79.0  17.1  0.511  0.091  0.303   \n",
      "\n",
      "   ORB%  ...  ORB  DRB   TRB  AST  STL  BLK  TOV   PF   PTS  Share  \n",
      "0   6.5  ...  2.4  4.0   6.4  4.0  1.4  0.2  3.5  3.1  30.7  0.022  \n",
      "1  16.1  ...  5.9  8.8  14.8  1.8  1.0  1.9  3.9  2.8  27.8  0.261  \n",
      "2   7.0  ...  2.3  8.6  10.9  5.5  2.0  0.8  3.5  2.9  21.2  0.613  \n",
      "3   7.1  ...  2.6  3.5   6.1  1.7  0.8  0.6  2.1  2.4  24.5  0.004  \n",
      "4   6.0  ...  2.2  4.7   6.9  7.9  2.9  0.4  3.8  3.3  16.4  0.010  \n",
      "\n",
      "[5 rows x 50 columns]\n"
     ]
    }
   ],
   "source": [
    "mvps = pro.merge_stats_mvps()\n",
    "print(mvps.head(5))"
   ]
  },
  {
   "cell_type": "markdown",
   "metadata": {},
   "source": [
    "Now we want to scale our data to have so we use StandardScaler"
   ]
  },
  {
   "cell_type": "code",
   "execution_count": 9,
   "metadata": {},
   "outputs": [
    {
     "name": "stdout",
     "output_type": "stream",
     "text": [
      "   index       Age         G       PER       TS%      3PAr       FTr  \\\n",
      "0      2 -0.629022  1.134936  1.157215  0.148045 -0.721317 -0.410129   \n",
      "1      4 -0.385716  1.016518  0.701123 -0.027207 -0.524885 -0.013106   \n",
      "2      6  0.587508  1.134936  0.342765  0.178972 -0.950487  0.014919   \n",
      "3      7  0.100896  1.095464  0.847724  0.436695 -0.908395 -0.382103   \n",
      "4      8  1.560732  1.055991  2.069400  1.055232 -0.945810  0.341878   \n",
      "\n",
      "       ORB%      DRB%      TRB%  ...       AST       STL       BLK       TOV  \\\n",
      "0  0.209367  1.486911  1.140893  ...  1.905645  2.828863  0.760745  2.728393   \n",
      "1  0.003405 -0.030189 -0.048516  ...  3.183564  4.742301 -0.040373  3.091212   \n",
      "2  0.394733  0.919914  0.818342  ...  0.308247  0.277614  0.159907  2.123695   \n",
      "3 -0.078980 -0.658483 -0.451706  ...  0.521233  1.765843 -0.040373  1.639937   \n",
      "4  0.332945  1.134453  0.999777  ...  0.787466  0.065010  4.966613  2.244635   \n",
      "\n",
      "         PF       PTS      Share                  Player  Year  Team  \n",
      "0  1.153769  2.072211  10.272549              Larry Bird  1981   BOS  \n",
      "1  1.620788  1.291576   0.067834  Michael Ray Richardson  1981   NYK  \n",
      "2  0.920259  1.681894   0.050911          Truck Robinson  1981   PHO  \n",
      "3  1.037014  2.299897   0.372452           Jamaal Wilkes  1981   LAL  \n",
      "4  1.387278  2.885374   6.904824     Kareem Abdul-Jabbar  1981   LAL  \n",
      "\n",
      "[5 rows x 51 columns]\n"
     ]
    },
    {
     "name": "stderr",
     "output_type": "stream",
     "text": [
      "c:\\Users\\Samuel\\miniconda3\\envs\\MVP_PREDICTOR\\Lib\\site-packages\\sklearn\\utils\\validation.py:2739: UserWarning: X does not have valid feature names, but StandardScaler was fitted with feature names\n",
      "  warnings.warn(\n",
      "c:\\Users\\Samuel\\miniconda3\\envs\\MVP_PREDICTOR\\Lib\\site-packages\\sklearn\\utils\\validation.py:2739: UserWarning: X does not have valid feature names, but StandardScaler was fitted with feature names\n",
      "  warnings.warn(\n"
     ]
    }
   ],
   "source": [
    "mvps_scaled = pro.scale()\n",
    "print(mvps_scaled.head(5))\n",
    "mvps_scaled.to_csv(\"../data/processed/mvps.csv\", index=False)"
   ]
  }
 ],
 "metadata": {
  "kernelspec": {
   "display_name": "MVP_PREDICTOR",
   "language": "python",
   "name": "python3"
  },
  "language_info": {
   "codemirror_mode": {
    "name": "ipython",
    "version": 3
   },
   "file_extension": ".py",
   "mimetype": "text/x-python",
   "name": "python",
   "nbconvert_exporter": "python",
   "pygments_lexer": "ipython3",
   "version": "3.13.1"
  }
 },
 "nbformat": 4,
 "nbformat_minor": 2
}
